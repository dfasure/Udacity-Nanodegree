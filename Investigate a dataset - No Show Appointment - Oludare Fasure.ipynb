{
 "cells": [
  {
   "cell_type": "markdown",
   "metadata": {},
   "source": [
    "# Project: Investigating the No-Show Appointment Dataset\n",
    "\n",
    "## Table of Contents\n",
    "<ul>\n",
    "<li><a href=\"#intro\">Introduction</a></li>\n",
    "<li><a href=\"#wrangling\">Data Wrangling</a></li>\n",
    "<li><a href=\"#eda\">Exploratory Data Analysis</a></li>\n",
    "<li><a href=\"#conclusions\">Conclusions</a></li>\n",
    "</ul>"
   ]
  },
  {
   "cell_type": "markdown",
   "metadata": {},
   "source": [
    "<a id='intro'></a>\n",
    "## Introduction"
   ]
  },
  {
   "cell_type": "markdown",
   "metadata": {},
   "source": [
    "This dataset contains information about medical appointments booked by patients in Brazil, the focus of this is to inspect if the patients show up for their appointments or not and the factors that possible influences this.  There are 14 columns, out of which 13 of these columns are the predictor variables while 1 - \"No-Show\" is the target variable. \n",
    "\n",
    "Based on the information available in the available data, some of the possible questions that can be explored are:  \n",
    "    - Is age a major determinant in a patients ability to meet up with appointments?     \n",
    "    - Does gender influence the chances of a patient going for their appointment?  \n",
    "    - Does getting an sms reminder help improve appointment attendance?  \n",
    "    - Does a patient's neighbourhood influence their ability to honour their appointments?  "
   ]
  },
  {
   "cell_type": "code",
   "execution_count": 1,
   "metadata": {
    "scrolled": true
   },
   "outputs": [],
   "source": [
    "# Use this cell to set up import statements for all of the packages that you\n",
    "#   plan to use.\n",
    "\n",
    "# Remember to include a 'magic word' so that your visualizations are plotted\n",
    "#   inline with the notebook. See this page for more:\n",
    "#   http://ipython.readthedocs.io/en/stable/interactive/magics.html\n",
    "\n",
    "import pandas as pd\n",
    "import numpy as np\n",
    "import matplotlib.pyplot as plt\n",
    "import seaborn as sns\n",
    "\n",
    "%matplotlib inline"
   ]
  },
  {
   "cell_type": "markdown",
   "metadata": {},
   "source": [
    "<a id='wrangling'></a>\n",
    "## Data Wrangling\n",
    "\n",
    "\n",
    "### General Properties"
   ]
  },
  {
   "cell_type": "markdown",
   "metadata": {},
   "source": [
    "### Data Cleaning (Replace this with more specific notes!)"
   ]
  },
  {
   "cell_type": "code",
   "execution_count": 2,
   "metadata": {},
   "outputs": [],
   "source": [
    "# We want to create a function that would be used to check info \n",
    "\n",
    "def Check_info(name):\n",
    "    print(name.info())"
   ]
  },
  {
   "cell_type": "code",
   "execution_count": 3,
   "metadata": {
    "scrolled": true
   },
   "outputs": [
    {
     "data": {
      "text/html": [
       "<div>\n",
       "<style scoped>\n",
       "    .dataframe tbody tr th:only-of-type {\n",
       "        vertical-align: middle;\n",
       "    }\n",
       "\n",
       "    .dataframe tbody tr th {\n",
       "        vertical-align: top;\n",
       "    }\n",
       "\n",
       "    .dataframe thead th {\n",
       "        text-align: right;\n",
       "    }\n",
       "</style>\n",
       "<table border=\"1\" class=\"dataframe\">\n",
       "  <thead>\n",
       "    <tr style=\"text-align: right;\">\n",
       "      <th></th>\n",
       "      <th>PatientId</th>\n",
       "      <th>AppointmentID</th>\n",
       "      <th>Gender</th>\n",
       "      <th>ScheduledDay</th>\n",
       "      <th>AppointmentDay</th>\n",
       "      <th>Age</th>\n",
       "      <th>Neighbourhood</th>\n",
       "      <th>Scholarship</th>\n",
       "      <th>Hipertension</th>\n",
       "      <th>Diabetes</th>\n",
       "      <th>Alcoholism</th>\n",
       "      <th>Handcap</th>\n",
       "      <th>SMS_received</th>\n",
       "      <th>No-show</th>\n",
       "    </tr>\n",
       "  </thead>\n",
       "  <tbody>\n",
       "    <tr>\n",
       "      <th>0</th>\n",
       "      <td>2.987250e+13</td>\n",
       "      <td>5642903</td>\n",
       "      <td>F</td>\n",
       "      <td>2016-04-29T18:38:08Z</td>\n",
       "      <td>2016-04-29T00:00:00Z</td>\n",
       "      <td>62</td>\n",
       "      <td>JARDIM DA PENHA</td>\n",
       "      <td>0</td>\n",
       "      <td>1</td>\n",
       "      <td>0</td>\n",
       "      <td>0</td>\n",
       "      <td>0</td>\n",
       "      <td>0</td>\n",
       "      <td>No</td>\n",
       "    </tr>\n",
       "    <tr>\n",
       "      <th>1</th>\n",
       "      <td>5.589978e+14</td>\n",
       "      <td>5642503</td>\n",
       "      <td>M</td>\n",
       "      <td>2016-04-29T16:08:27Z</td>\n",
       "      <td>2016-04-29T00:00:00Z</td>\n",
       "      <td>56</td>\n",
       "      <td>JARDIM DA PENHA</td>\n",
       "      <td>0</td>\n",
       "      <td>0</td>\n",
       "      <td>0</td>\n",
       "      <td>0</td>\n",
       "      <td>0</td>\n",
       "      <td>0</td>\n",
       "      <td>No</td>\n",
       "    </tr>\n",
       "    <tr>\n",
       "      <th>2</th>\n",
       "      <td>4.262962e+12</td>\n",
       "      <td>5642549</td>\n",
       "      <td>F</td>\n",
       "      <td>2016-04-29T16:19:04Z</td>\n",
       "      <td>2016-04-29T00:00:00Z</td>\n",
       "      <td>62</td>\n",
       "      <td>MATA DA PRAIA</td>\n",
       "      <td>0</td>\n",
       "      <td>0</td>\n",
       "      <td>0</td>\n",
       "      <td>0</td>\n",
       "      <td>0</td>\n",
       "      <td>0</td>\n",
       "      <td>No</td>\n",
       "    </tr>\n",
       "    <tr>\n",
       "      <th>3</th>\n",
       "      <td>8.679512e+11</td>\n",
       "      <td>5642828</td>\n",
       "      <td>F</td>\n",
       "      <td>2016-04-29T17:29:31Z</td>\n",
       "      <td>2016-04-29T00:00:00Z</td>\n",
       "      <td>8</td>\n",
       "      <td>PONTAL DE CAMBURI</td>\n",
       "      <td>0</td>\n",
       "      <td>0</td>\n",
       "      <td>0</td>\n",
       "      <td>0</td>\n",
       "      <td>0</td>\n",
       "      <td>0</td>\n",
       "      <td>No</td>\n",
       "    </tr>\n",
       "    <tr>\n",
       "      <th>4</th>\n",
       "      <td>8.841186e+12</td>\n",
       "      <td>5642494</td>\n",
       "      <td>F</td>\n",
       "      <td>2016-04-29T16:07:23Z</td>\n",
       "      <td>2016-04-29T00:00:00Z</td>\n",
       "      <td>56</td>\n",
       "      <td>JARDIM DA PENHA</td>\n",
       "      <td>0</td>\n",
       "      <td>1</td>\n",
       "      <td>1</td>\n",
       "      <td>0</td>\n",
       "      <td>0</td>\n",
       "      <td>0</td>\n",
       "      <td>No</td>\n",
       "    </tr>\n",
       "  </tbody>\n",
       "</table>\n",
       "</div>"
      ],
      "text/plain": [
       "      PatientId  AppointmentID Gender          ScheduledDay  \\\n",
       "0  2.987250e+13        5642903      F  2016-04-29T18:38:08Z   \n",
       "1  5.589978e+14        5642503      M  2016-04-29T16:08:27Z   \n",
       "2  4.262962e+12        5642549      F  2016-04-29T16:19:04Z   \n",
       "3  8.679512e+11        5642828      F  2016-04-29T17:29:31Z   \n",
       "4  8.841186e+12        5642494      F  2016-04-29T16:07:23Z   \n",
       "\n",
       "         AppointmentDay  Age      Neighbourhood  Scholarship  Hipertension  \\\n",
       "0  2016-04-29T00:00:00Z   62    JARDIM DA PENHA            0             1   \n",
       "1  2016-04-29T00:00:00Z   56    JARDIM DA PENHA            0             0   \n",
       "2  2016-04-29T00:00:00Z   62      MATA DA PRAIA            0             0   \n",
       "3  2016-04-29T00:00:00Z    8  PONTAL DE CAMBURI            0             0   \n",
       "4  2016-04-29T00:00:00Z   56    JARDIM DA PENHA            0             1   \n",
       "\n",
       "   Diabetes  Alcoholism  Handcap  SMS_received No-show  \n",
       "0         0           0        0             0      No  \n",
       "1         0           0        0             0      No  \n",
       "2         0           0        0             0      No  \n",
       "3         0           0        0             0      No  \n",
       "4         1           0        0             0      No  "
      ]
     },
     "execution_count": 3,
     "metadata": {},
     "output_type": "execute_result"
    }
   ],
   "source": [
    "# Loading the data and the first few lines are printed out, this affords us get familiar with the content of the dataset\n",
    "\n",
    "Appointment_data = pd.read_csv('noshowappointments-kagglev2-may-2016.csv')\n",
    "Appointment_data.head()"
   ]
  },
  {
   "cell_type": "code",
   "execution_count": 4,
   "metadata": {},
   "outputs": [
    {
     "name": "stdout",
     "output_type": "stream",
     "text": [
      "<class 'pandas.core.frame.DataFrame'>\n",
      "RangeIndex: 110527 entries, 0 to 110526\n",
      "Data columns (total 14 columns):\n",
      " #   Column          Non-Null Count   Dtype  \n",
      "---  ------          --------------   -----  \n",
      " 0   PatientId       110527 non-null  float64\n",
      " 1   AppointmentID   110527 non-null  int64  \n",
      " 2   Gender          110527 non-null  object \n",
      " 3   ScheduledDay    110527 non-null  object \n",
      " 4   AppointmentDay  110527 non-null  object \n",
      " 5   Age             110527 non-null  int64  \n",
      " 6   Neighbourhood   110527 non-null  object \n",
      " 7   Scholarship     110527 non-null  int64  \n",
      " 8   Hipertension    110527 non-null  int64  \n",
      " 9   Diabetes        110527 non-null  int64  \n",
      " 10  Alcoholism      110527 non-null  int64  \n",
      " 11  Handcap         110527 non-null  int64  \n",
      " 12  SMS_received    110527 non-null  int64  \n",
      " 13  No-show         110527 non-null  object \n",
      "dtypes: float64(1), int64(8), object(5)\n",
      "memory usage: 11.8+ MB\n",
      "None\n"
     ]
    }
   ],
   "source": [
    "# Now we can get some basic information about the columns in the dataset e.g data types and missing values.\n",
    "\n",
    "Check_info(Appointment_data)"
   ]
  },
  {
   "cell_type": "markdown",
   "metadata": {},
   "source": [
    "From the information above, we observe that there are fourteen columns in our dataset and there are no missing values in any of these columns. We can also see the different data types for each of the columns. With this, we can inspect if the columns are in the appropriate or desired data type or if we would need to make some adjustments. For example, it can be seen above that \"No-show\", our target variable is represented as a string, but we would prefer to have it as an interger. Hence, we would convert that column from string to integer."
   ]
  },
  {
   "cell_type": "code",
   "execution_count": 5,
   "metadata": {},
   "outputs": [
    {
     "name": "stdout",
     "output_type": "stream",
     "text": [
      "<class 'pandas.core.frame.DataFrame'>\n",
      "RangeIndex: 110527 entries, 0 to 110526\n",
      "Data columns (total 14 columns):\n",
      " #   Column          Non-Null Count   Dtype  \n",
      "---  ------          --------------   -----  \n",
      " 0   PatientId       110527 non-null  float64\n",
      " 1   AppointmentID   110527 non-null  int64  \n",
      " 2   Gender          110527 non-null  object \n",
      " 3   ScheduledDay    110527 non-null  object \n",
      " 4   AppointmentDay  110527 non-null  object \n",
      " 5   Age             110527 non-null  int64  \n",
      " 6   Neighbourhood   110527 non-null  object \n",
      " 7   Scholarship     110527 non-null  int64  \n",
      " 8   Hipertension    110527 non-null  int64  \n",
      " 9   Diabetes        110527 non-null  int64  \n",
      " 10  Alcoholism      110527 non-null  int64  \n",
      " 11  Handcap         110527 non-null  int64  \n",
      " 12  SMS_received    110527 non-null  int64  \n",
      " 13  No-show         110527 non-null  int64  \n",
      "dtypes: float64(1), int64(9), object(4)\n",
      "memory usage: 11.8+ MB\n",
      "None\n"
     ]
    }
   ],
   "source": [
    "# Chamging the \"No-show\" column from string to numbers.\n",
    "\n",
    "Appointment_data['No-show'] = Appointment_data['No-show'].map({'No': 0, 'Yes': 1})\n",
    "#Appointment_data['No-show'] = pd.to_numeric(Appointment_data['No-show'])\n",
    "Check_info(Appointment_data)"
   ]
  },
  {
   "cell_type": "code",
   "execution_count": 6,
   "metadata": {},
   "outputs": [
    {
     "data": {
      "text/plain": [
       "(110527, 14)"
      ]
     },
     "execution_count": 6,
     "metadata": {},
     "output_type": "execute_result"
    }
   ],
   "source": [
    "# Here want to insect the number of rows and columns present in the dataset\n",
    "\n",
    "Appointment_data.shape"
   ]
  },
  {
   "cell_type": "markdown",
   "metadata": {},
   "source": [
    "The dataset being used in this project has 110,527 observations, while the number of columns, which can also be referred to as variables are 14. "
   ]
  },
  {
   "cell_type": "code",
   "execution_count": 7,
   "metadata": {
    "scrolled": true
   },
   "outputs": [
    {
     "data": {
      "text/html": [
       "<div>\n",
       "<style scoped>\n",
       "    .dataframe tbody tr th:only-of-type {\n",
       "        vertical-align: middle;\n",
       "    }\n",
       "\n",
       "    .dataframe tbody tr th {\n",
       "        vertical-align: top;\n",
       "    }\n",
       "\n",
       "    .dataframe thead th {\n",
       "        text-align: right;\n",
       "    }\n",
       "</style>\n",
       "<table border=\"1\" class=\"dataframe\">\n",
       "  <thead>\n",
       "    <tr style=\"text-align: right;\">\n",
       "      <th></th>\n",
       "      <th>PatientId</th>\n",
       "      <th>AppointmentID</th>\n",
       "      <th>Age</th>\n",
       "      <th>Scholarship</th>\n",
       "      <th>Hipertension</th>\n",
       "      <th>Diabetes</th>\n",
       "      <th>Alcoholism</th>\n",
       "      <th>Handcap</th>\n",
       "      <th>SMS_received</th>\n",
       "      <th>No-show</th>\n",
       "    </tr>\n",
       "  </thead>\n",
       "  <tbody>\n",
       "    <tr>\n",
       "      <th>count</th>\n",
       "      <td>1.105270e+05</td>\n",
       "      <td>1.105270e+05</td>\n",
       "      <td>110527.000000</td>\n",
       "      <td>110527.000000</td>\n",
       "      <td>110527.000000</td>\n",
       "      <td>110527.000000</td>\n",
       "      <td>110527.000000</td>\n",
       "      <td>110527.000000</td>\n",
       "      <td>110527.000000</td>\n",
       "      <td>110527.000000</td>\n",
       "    </tr>\n",
       "    <tr>\n",
       "      <th>mean</th>\n",
       "      <td>1.474963e+14</td>\n",
       "      <td>5.675305e+06</td>\n",
       "      <td>37.088874</td>\n",
       "      <td>0.098266</td>\n",
       "      <td>0.197246</td>\n",
       "      <td>0.071865</td>\n",
       "      <td>0.030400</td>\n",
       "      <td>0.022248</td>\n",
       "      <td>0.321026</td>\n",
       "      <td>0.201933</td>\n",
       "    </tr>\n",
       "    <tr>\n",
       "      <th>std</th>\n",
       "      <td>2.560949e+14</td>\n",
       "      <td>7.129575e+04</td>\n",
       "      <td>23.110205</td>\n",
       "      <td>0.297675</td>\n",
       "      <td>0.397921</td>\n",
       "      <td>0.258265</td>\n",
       "      <td>0.171686</td>\n",
       "      <td>0.161543</td>\n",
       "      <td>0.466873</td>\n",
       "      <td>0.401444</td>\n",
       "    </tr>\n",
       "    <tr>\n",
       "      <th>min</th>\n",
       "      <td>3.921784e+04</td>\n",
       "      <td>5.030230e+06</td>\n",
       "      <td>-1.000000</td>\n",
       "      <td>0.000000</td>\n",
       "      <td>0.000000</td>\n",
       "      <td>0.000000</td>\n",
       "      <td>0.000000</td>\n",
       "      <td>0.000000</td>\n",
       "      <td>0.000000</td>\n",
       "      <td>0.000000</td>\n",
       "    </tr>\n",
       "    <tr>\n",
       "      <th>25%</th>\n",
       "      <td>4.172614e+12</td>\n",
       "      <td>5.640286e+06</td>\n",
       "      <td>18.000000</td>\n",
       "      <td>0.000000</td>\n",
       "      <td>0.000000</td>\n",
       "      <td>0.000000</td>\n",
       "      <td>0.000000</td>\n",
       "      <td>0.000000</td>\n",
       "      <td>0.000000</td>\n",
       "      <td>0.000000</td>\n",
       "    </tr>\n",
       "    <tr>\n",
       "      <th>50%</th>\n",
       "      <td>3.173184e+13</td>\n",
       "      <td>5.680573e+06</td>\n",
       "      <td>37.000000</td>\n",
       "      <td>0.000000</td>\n",
       "      <td>0.000000</td>\n",
       "      <td>0.000000</td>\n",
       "      <td>0.000000</td>\n",
       "      <td>0.000000</td>\n",
       "      <td>0.000000</td>\n",
       "      <td>0.000000</td>\n",
       "    </tr>\n",
       "    <tr>\n",
       "      <th>75%</th>\n",
       "      <td>9.439172e+13</td>\n",
       "      <td>5.725524e+06</td>\n",
       "      <td>55.000000</td>\n",
       "      <td>0.000000</td>\n",
       "      <td>0.000000</td>\n",
       "      <td>0.000000</td>\n",
       "      <td>0.000000</td>\n",
       "      <td>0.000000</td>\n",
       "      <td>1.000000</td>\n",
       "      <td>0.000000</td>\n",
       "    </tr>\n",
       "    <tr>\n",
       "      <th>max</th>\n",
       "      <td>9.999816e+14</td>\n",
       "      <td>5.790484e+06</td>\n",
       "      <td>115.000000</td>\n",
       "      <td>1.000000</td>\n",
       "      <td>1.000000</td>\n",
       "      <td>1.000000</td>\n",
       "      <td>1.000000</td>\n",
       "      <td>4.000000</td>\n",
       "      <td>1.000000</td>\n",
       "      <td>1.000000</td>\n",
       "    </tr>\n",
       "  </tbody>\n",
       "</table>\n",
       "</div>"
      ],
      "text/plain": [
       "          PatientId  AppointmentID            Age    Scholarship  \\\n",
       "count  1.105270e+05   1.105270e+05  110527.000000  110527.000000   \n",
       "mean   1.474963e+14   5.675305e+06      37.088874       0.098266   \n",
       "std    2.560949e+14   7.129575e+04      23.110205       0.297675   \n",
       "min    3.921784e+04   5.030230e+06      -1.000000       0.000000   \n",
       "25%    4.172614e+12   5.640286e+06      18.000000       0.000000   \n",
       "50%    3.173184e+13   5.680573e+06      37.000000       0.000000   \n",
       "75%    9.439172e+13   5.725524e+06      55.000000       0.000000   \n",
       "max    9.999816e+14   5.790484e+06     115.000000       1.000000   \n",
       "\n",
       "        Hipertension       Diabetes     Alcoholism        Handcap  \\\n",
       "count  110527.000000  110527.000000  110527.000000  110527.000000   \n",
       "mean        0.197246       0.071865       0.030400       0.022248   \n",
       "std         0.397921       0.258265       0.171686       0.161543   \n",
       "min         0.000000       0.000000       0.000000       0.000000   \n",
       "25%         0.000000       0.000000       0.000000       0.000000   \n",
       "50%         0.000000       0.000000       0.000000       0.000000   \n",
       "75%         0.000000       0.000000       0.000000       0.000000   \n",
       "max         1.000000       1.000000       1.000000       4.000000   \n",
       "\n",
       "        SMS_received        No-show  \n",
       "count  110527.000000  110527.000000  \n",
       "mean        0.321026       0.201933  \n",
       "std         0.466873       0.401444  \n",
       "min         0.000000       0.000000  \n",
       "25%         0.000000       0.000000  \n",
       "50%         0.000000       0.000000  \n",
       "75%         1.000000       0.000000  \n",
       "max         1.000000       1.000000  "
      ]
     },
     "execution_count": 7,
     "metadata": {},
     "output_type": "execute_result"
    }
   ],
   "source": [
    "# With describe, we get a summary of the numerical variables in our dataset\n",
    "\n",
    "Appointment_data.describe()"
   ]
  },
  {
   "cell_type": "code",
   "execution_count": 8,
   "metadata": {
    "scrolled": true
   },
   "outputs": [
    {
     "data": {
      "text/plain": [
       "PatientId          62299\n",
       "AppointmentID     110527\n",
       "Gender                 2\n",
       "ScheduledDay      103549\n",
       "AppointmentDay        27\n",
       "Age                  104\n",
       "Neighbourhood         81\n",
       "Scholarship            2\n",
       "Hipertension           2\n",
       "Diabetes               2\n",
       "Alcoholism             2\n",
       "Handcap                5\n",
       "SMS_received           2\n",
       "No-show                2\n",
       "dtype: int64"
      ]
     },
     "execution_count": 8,
     "metadata": {},
     "output_type": "execute_result"
    }
   ],
   "source": [
    "# Now let us find out the number of unique values in each of the columns in this dataset.\n",
    "\n",
    "Appointment_data.nunique()"
   ]
  },
  {
   "cell_type": "markdown",
   "metadata": {},
   "source": [
    "The output above shows the number of unique values in each of the columns. From this, we get a sense of the distribution of values in each of these columns. For examples, we see that there are 104 different values in the age column. We also see that there are 81 different neighbourhoods listed in the data, and 27 different appointment dates. "
   ]
  },
  {
   "cell_type": "markdown",
   "metadata": {},
   "source": [
    "The result above gives a better understanding of the data we are working with. We can see that the age of the people captured in the dataset ranges from babies less than a year old to adults as old as 115yrs old."
   ]
  },
  {
   "cell_type": "markdown",
   "metadata": {},
   "source": [
    "Looking at the structure of our dataset, there are some columns that do not appear to be very important to our analysis. Hence, we would be dropping the column to make our dataset more concise."
   ]
  },
  {
   "cell_type": "code",
   "execution_count": 9,
   "metadata": {
    "scrolled": true
   },
   "outputs": [],
   "source": [
    "Appointment_data = Appointment_data.drop(['PatientId', 'AppointmentID', 'ScheduledDay', 'AppointmentDay'], axis = 1)"
   ]
  },
  {
   "cell_type": "code",
   "execution_count": 10,
   "metadata": {},
   "outputs": [
    {
     "name": "stdout",
     "output_type": "stream",
     "text": [
      "<class 'pandas.core.frame.DataFrame'>\n",
      "RangeIndex: 110527 entries, 0 to 110526\n",
      "Data columns (total 10 columns):\n",
      " #   Column         Non-Null Count   Dtype \n",
      "---  ------         --------------   ----- \n",
      " 0   Gender         110527 non-null  object\n",
      " 1   Age            110527 non-null  int64 \n",
      " 2   Neighbourhood  110527 non-null  object\n",
      " 3   Scholarship    110527 non-null  int64 \n",
      " 4   Hipertension   110527 non-null  int64 \n",
      " 5   Diabetes       110527 non-null  int64 \n",
      " 6   Alcoholism     110527 non-null  int64 \n",
      " 7   Handcap        110527 non-null  int64 \n",
      " 8   SMS_received   110527 non-null  int64 \n",
      " 9   No-show        110527 non-null  int64 \n",
      "dtypes: int64(8), object(2)\n",
      "memory usage: 8.4+ MB\n",
      "None\n"
     ]
    }
   ],
   "source": [
    "Check_info(Appointment_data)"
   ]
  },
  {
   "cell_type": "markdown",
   "metadata": {},
   "source": [
    "The dataset is more concise after removing some columns, but we can remove even more columns like \"ScheduleedDay\" and \"AppointmentDay\" since it doesn't appear to be needed for the questions that I intend to answer. "
   ]
  },
  {
   "cell_type": "markdown",
   "metadata": {},
   "source": [
    "<a id='eda'></a>\n",
    "## Exploratory Data Analysis\n",
    "\n",
    "\n",
    "### Research Question 1:  Is age a major determinant in a patients ability to meet up with appointments?"
   ]
  },
  {
   "cell_type": "markdown",
   "metadata": {},
   "source": [
    "Now that the dataset has been trimmed, we want to begin the process of answering the questions posed at the beginning of this project below.  \n",
    "For this first question, we would like to know if the \"Age\" of patients at the hospital plays a role in their ability to show up for appointments."
   ]
  },
  {
   "cell_type": "code",
   "execution_count": 11,
   "metadata": {},
   "outputs": [
    {
     "name": "stderr",
     "output_type": "stream",
     "text": [
      "C:\\Users\\Samuel Chika\\anaconda3\\lib\\site-packages\\seaborn\\_decorators.py:36: FutureWarning: Pass the following variable as a keyword arg: x. From version 0.12, the only valid positional argument will be `data`, and passing other arguments without an explicit keyword will result in an error or misinterpretation.\n",
      "  warnings.warn(\n"
     ]
    },
    {
     "data": {
      "image/png": "[encoded data removed]",
      "text/plain": [
       "<Figure size 432x288 with 1 Axes>"
      ]
     },
     "metadata": {
      "needs_background": "light"
     },
     "output_type": "display_data"
    }
   ],
   "source": [
    "# Let's use the boxplot to inspect the distribution of age\n",
    "\n",
    "sns.boxplot(Appointment_data.Age);\n",
    "plt.show();"
   ]
  },
  {
   "cell_type": "code",
   "execution_count": 12,
   "metadata": {
    "scrolled": true
   },
   "outputs": [
    {
     "data": {
      "text/plain": [
       " 0      3539\n",
       " 1      2273\n",
       " 52     1746\n",
       " 49     1652\n",
       " 53     1651\n",
       "        ... \n",
       " 115       5\n",
       " 100       4\n",
       " 102       2\n",
       " 99        1\n",
       "-1         1\n",
       "Name: Age, Length: 104, dtype: int64"
      ]
     },
     "execution_count": 12,
     "metadata": {},
     "output_type": "execute_result"
    }
   ],
   "source": [
    "# Firstly, let us inspect the distribution of the age column\n",
    "\n",
    "Appointment_data.Age.value_counts()"
   ]
  },
  {
   "cell_type": "markdown",
   "metadata": {},
   "source": [
    "From the result above, we can see that there is '-1' listed out as someone's age in the dataset, whcih is impossible. Since it is not possible for anyone to be minus one year old, and there is just one occurance of this, we can afford to drop that instance without making any significant alteration to the data in our dataset."
   ]
  },
  {
   "cell_type": "code",
   "execution_count": 13,
   "metadata": {},
   "outputs": [],
   "source": [
    "# Drop the column where the age equals -1\n",
    "\n",
    "Appointment_data.drop(Appointment_data.query(\"Age == -1\").index,inplace=True)"
   ]
  },
  {
   "cell_type": "markdown",
   "metadata": {},
   "source": [
    "Now that all the ages we have in the dataset seem appropriate, we can now decide how we want to explore them. Considering the fact that we have a very wide range of age groups represented in our dataset, we would like to devide the age of patients in the entire dataset into groups. This would make it easier to explore.  \n",
    "\n",
    "The different age group categories would be using in this dataset are listed below with the respective age ranges;"
   ]
  },
  {
   "cell_type": "code",
   "execution_count": 14,
   "metadata": {},
   "outputs": [],
   "source": [
    "# Divide the age range in the dataset into age groups and calculate the number of patients in each age group\n",
    "\n",
    "child = Appointment_data.query('Age < 13')\n",
    "teen = Appointment_data.query('12 < Age < 20')\n",
    "young_adult = Appointment_data.query('19 < Age < 35')\n",
    "adult = Appointment_data.query('34 < Age < 70')\n",
    "old_adult = Appointment_data.query('Age > 69')\n",
    "\n",
    "children = child['No-show'].sum()\n",
    "teens = teen['No-show'].sum()\n",
    "young_adults = young_adult['No-show'].sum()\n",
    "adults = adult['No-show'].sum()\n",
    "old_adults = old_adult['No-show'].sum()"
   ]
  },
  {
   "cell_type": "code",
   "execution_count": 15,
   "metadata": {
    "scrolled": true
   },
   "outputs": [
    {
     "data": {
      "image/png": "[encoded data removed]",
      "text/plain": [
       "<Figure size 432x288 with 1 Axes>"
      ]
     },
     "metadata": {
      "needs_background": "light"
     },
     "output_type": "display_data"
    }
   ],
   "source": [
    "# Create a bar showing the attendance of medical appointments by age group\n",
    "\n",
    "arrangements = [1, 2, 3, 4, 5]\n",
    "age_group = [children, teens, young_adults, adults, old_adults]\n",
    "labels = ['children', 'teens', 'young_adults', 'adults', 'old_adults']\n",
    "plt.bar(arrangements, age_group, tick_label = labels);\n",
    "plt.xlabel('Age Group')\n",
    "plt.ylabel('Attendance of Medical Appointments (Thousands)');"
   ]
  },
  {
   "cell_type": "markdown",
   "metadata": {},
   "source": [
    "From the chart above, we can see that adults between the age of 35 - 69yrs make up a majority of appointment attendance, that age have twice the number of the age group in second place. Also, the \"old adults\" have the least number of appointment attendance. However, there is no overwhelming evidence in this data that suggests age plays in the patient's ability to keep us with appointments."
   ]
  },
  {
   "cell_type": "markdown",
   "metadata": {},
   "source": [
    "### Research Question 3: - Does gender influence the chances of a patient going for their appointment?\n",
    "\n",
    "In this section, the goal is to inspect the role of gender in the ability of a patient to attend medical appointments. We would explore the dataset and consider what the evidence available in the dataset would show us."
   ]
  },
  {
   "cell_type": "code",
   "execution_count": 16,
   "metadata": {
    "scrolled": true
   },
   "outputs": [
    {
     "data": {
      "text/plain": [
       "Gender\n",
       "F    71839\n",
       "M    38687\n",
       "dtype: int64"
      ]
     },
     "execution_count": 16,
     "metadata": {},
     "output_type": "execute_result"
    }
   ],
   "source": [
    "# Count the number of males and females represented in the dataset\n",
    "\n",
    "Appointment_data.groupby(['Gender']).size()"
   ]
  },
  {
   "cell_type": "code",
   "execution_count": 17,
   "metadata": {},
   "outputs": [
    {
     "data": {
      "text/plain": [
       "Gender  No-show\n",
       "F       0          57245\n",
       "        1          14594\n",
       "M       0          30962\n",
       "        1           7725\n",
       "Name: No-show, dtype: int64"
      ]
     },
     "execution_count": 17,
     "metadata": {},
     "output_type": "execute_result"
    }
   ],
   "source": [
    "# To get the patients attendance grouped by gender\n",
    "\n",
    "gender_grouping = Appointment_data.groupby(\"Gender\")[\"No-show\"].value_counts()\n",
    "gender_grouping"
   ]
  },
  {
   "cell_type": "markdown",
   "metadata": {},
   "source": [
    "Above, we have the attendance figurs for each gender. \"F\" stands for \"Females while \"M' stands for \"Male\". Also, \"0\" represents \"absent\", which is when a patient misses the medical appointment while \"1\" stands for \"present\", which indicates the times when the patient actually attended the medical appointment."
   ]
  },
  {
   "cell_type": "code",
   "execution_count": 18,
   "metadata": {},
   "outputs": [
    {
     "name": "stdout",
     "output_type": "stream",
     "text": [
      "Percentage of Female attendance:  20.31\n",
      "Percentage of Male attendance:  19.97\n"
     ]
    },
    {
     "data": {
      "text/plain": [
       "Text(0.5, 1.0, 'Appointment attendance by Gender')"
      ]
     },
     "execution_count": 18,
     "metadata": {},
     "output_type": "execute_result"
    },
    {
     "data": {
      "image/png": "[encoded data removed]",
      "text/plain": [
       "<Figure size 432x288 with 1 Axes>"
      ]
     },
     "metadata": {
      "needs_background": "light"
     },
     "output_type": "display_data"
    }
   ],
   "source": [
    "# Percentage of Patients who attended their appointment grouped by gender\n",
    "\n",
    "F_percent = gender_grouping[1] / (gender_grouping[0] + gender_grouping[1])*100\n",
    "M_percent = gender_grouping[3] / (gender_grouping[2] + gender_grouping[3])*100\n",
    "\n",
    "print('Percentage of Female attendance: ', round(F_percent, 2))\n",
    "print('Percentage of Male attendance: ', round(M_percent, 2))\n",
    "\n",
    "Appointment_data.groupby(\"Gender\")[\"No-show\"].value_counts().unstack().plot(kind=\"bar\",stacked=True);\n",
    "plt.xlabel(\"Gender\")\n",
    "plt.ylabel(\"Attendance (Thousands)\")\n",
    "plt.legend([\"Absent\",\"Present\"]);\n",
    "plt.title(\"Appointment attendance by Gender\")"
   ]
  },
  {
   "cell_type": "markdown",
   "metadata": {},
   "source": [
    "We can see from above that while a lot more ladies showed up for their appointments, when we consider the attendance in terms of percentage, the gap between male and female attendance is not that wide. Therefore, the gender information is not sufficient in itself to tell us if a patient would attend the medical appointment or not."
   ]
  },
  {
   "cell_type": "markdown",
   "metadata": {},
   "source": [
    "### Research Question 3: Does getting an sms reminder help improve appointment attendance?\n",
    "\n",
    "In this section, we are going cto consider the contribution of SMS reminders to the attendance of medical ppointments. We want to inspect of a patient is more likely to attend their medical appointment if they received an SMS reminder."
   ]
  },
  {
   "cell_type": "code",
   "execution_count": 19,
   "metadata": {
    "scrolled": true
   },
   "outputs": [
    {
     "name": "stdout",
     "output_type": "stream",
     "text": [
      "SMS_received  No-show\n",
      "0             0          62509\n",
      "              1          12535\n",
      "1             0          25698\n",
      "              1           9784\n",
      "Name: No-show, dtype: int64\n"
     ]
    },
    {
     "data": {
      "image/png": "[encoded data removed]",
      "text/plain": [
       "<Figure size 432x288 with 1 Axes>"
      ]
     },
     "metadata": {},
     "output_type": "display_data"
    }
   ],
   "source": [
    "# Show the appointment attendance for both those who got SMS and those who did not.\n",
    "\n",
    "SMS_info = Appointment_data.groupby(\"SMS_received\")[\"No-show\"].value_counts()\n",
    "print(SMS_info)\n",
    "\n",
    "Appointment_data[\"SMS_received\"].value_counts().plot(kind=\"pie\",labels=[\"SMS not Received\",\"SMS Received\"]);"
   ]
  },
  {
   "cell_type": "code",
   "execution_count": 20,
   "metadata": {
    "scrolled": true
   },
   "outputs": [
    {
     "data": {
      "image/png": "[encoded data removed]",
      "text/plain": [
       "<Figure size 504x360 with 1 Axes>"
      ]
     },
     "metadata": {
      "needs_background": "light"
     },
     "output_type": "display_data"
    }
   ],
   "source": [
    "# This is a plot of Appointment attendance by SMS received. \n",
    "\n",
    "Appointment_data.groupby(\"No-show\")[\"SMS_received\"].value_counts().unstack().plot(kind=\"bar\",stacked=True, figsize=(7,5))\n",
    "plt.xlabel(\"Appointment Attendance\")\n",
    "plt.ylabel(\"SMS_recieved\")\n",
    "plt.title(\"Appointment Attendance by SMS received\");\n",
    "plt.legend();"
   ]
  },
  {
   "cell_type": "markdown",
   "metadata": {},
   "source": [
    "In the plot above, '0\" represents patients that did not receive SMS while '1' reprsents those that did. The blue portion of the bar represents those who did not attend their appointments while the orange portion represents those who attended their appointments. The plot suggests that SMS reminders probably influenced appointment attendance, because those who did not receive SMS were more likely to miss their appointments. However, thi information is not conclusive, further exploration would have to be done to ensure this is actually the case."
   ]
  },
  {
   "cell_type": "markdown",
   "metadata": {},
   "source": [
    "### Research Question 4: Does a patient's neighbourhood influence their ability to honour their appointments?\n",
    "\n",
    "In this section, we are going to analyse the role neighbourhood plays in the ability of a patient to attend his or her medical appointment. We have 81 neighbourhoods listed in the dataset and now would like to see the roles they play in attendance."
   ]
  },
  {
   "cell_type": "code",
   "execution_count": 21,
   "metadata": {
    "scrolled": true
   },
   "outputs": [
    {
     "data": {
      "text/plain": [
       "Neighbourhood    No-show\n",
       "AEROPORTO        0             7\n",
       "                 1             1\n",
       "ANDORINHAS       0          1741\n",
       "                 1           521\n",
       "ANTÔNIO HONÓRIO  0           221\n",
       "                            ... \n",
       "TABUAZEIRO       1           573\n",
       "UNIVERSITÁRIO    0           120\n",
       "                 1            32\n",
       "VILA RUBIM       0           710\n",
       "                 1           141\n",
       "Name: No-show, Length: 160, dtype: int64"
      ]
     },
     "execution_count": 21,
     "metadata": {},
     "output_type": "execute_result"
    }
   ],
   "source": [
    "# Count the number of patients in each neighbourhood that either attended or missed their appointments.\n",
    "\n",
    "Neighbourhood_freq = Appointment_data.groupby('Neighbourhood')['No-show'].value_counts()\n",
    "Neighbourhood_freq"
   ]
  },
  {
   "cell_type": "code",
   "execution_count": 22,
   "metadata": {},
   "outputs": [
    {
     "data": {
      "text/html": [
       "<div>\n",
       "<style scoped>\n",
       "    .dataframe tbody tr th:only-of-type {\n",
       "        vertical-align: middle;\n",
       "    }\n",
       "\n",
       "    .dataframe tbody tr th {\n",
       "        vertical-align: top;\n",
       "    }\n",
       "\n",
       "    .dataframe thead th {\n",
       "        text-align: right;\n",
       "    }\n",
       "</style>\n",
       "<table border=\"1\" class=\"dataframe\">\n",
       "  <thead>\n",
       "    <tr style=\"text-align: right;\">\n",
       "      <th>No-show</th>\n",
       "      <th>0</th>\n",
       "      <th>1</th>\n",
       "    </tr>\n",
       "    <tr>\n",
       "      <th>Neighbourhood</th>\n",
       "      <th></th>\n",
       "      <th></th>\n",
       "    </tr>\n",
       "  </thead>\n",
       "  <tbody>\n",
       "    <tr>\n",
       "      <th>AEROPORTO</th>\n",
       "      <td>87.500000</td>\n",
       "      <td>12.500000</td>\n",
       "    </tr>\n",
       "    <tr>\n",
       "      <th>ANDORINHAS</th>\n",
       "      <td>76.967286</td>\n",
       "      <td>23.032714</td>\n",
       "    </tr>\n",
       "    <tr>\n",
       "      <th>ANTÔNIO HONÓRIO</th>\n",
       "      <td>81.549815</td>\n",
       "      <td>18.450185</td>\n",
       "    </tr>\n",
       "    <tr>\n",
       "      <th>ARIOVALDO FAVALESSA</th>\n",
       "      <td>78.014184</td>\n",
       "      <td>21.985816</td>\n",
       "    </tr>\n",
       "    <tr>\n",
       "      <th>BARRO VERMELHO</th>\n",
       "      <td>78.486998</td>\n",
       "      <td>21.513002</td>\n",
       "    </tr>\n",
       "    <tr>\n",
       "      <th>...</th>\n",
       "      <td>...</td>\n",
       "      <td>...</td>\n",
       "    </tr>\n",
       "    <tr>\n",
       "      <th>SÃO JOSÉ</th>\n",
       "      <td>78.351037</td>\n",
       "      <td>21.648963</td>\n",
       "    </tr>\n",
       "    <tr>\n",
       "      <th>SÃO PEDRO</th>\n",
       "      <td>78.962418</td>\n",
       "      <td>21.037582</td>\n",
       "    </tr>\n",
       "    <tr>\n",
       "      <th>TABUAZEIRO</th>\n",
       "      <td>81.704981</td>\n",
       "      <td>18.295019</td>\n",
       "    </tr>\n",
       "    <tr>\n",
       "      <th>UNIVERSITÁRIO</th>\n",
       "      <td>78.947368</td>\n",
       "      <td>21.052632</td>\n",
       "    </tr>\n",
       "    <tr>\n",
       "      <th>VILA RUBIM</th>\n",
       "      <td>83.431257</td>\n",
       "      <td>16.568743</td>\n",
       "    </tr>\n",
       "  </tbody>\n",
       "</table>\n",
       "<p>81 rows × 2 columns</p>\n",
       "</div>"
      ],
      "text/plain": [
       "No-show                      0          1\n",
       "Neighbourhood                            \n",
       "AEROPORTO            87.500000  12.500000\n",
       "ANDORINHAS           76.967286  23.032714\n",
       "ANTÔNIO HONÓRIO      81.549815  18.450185\n",
       "ARIOVALDO FAVALESSA  78.014184  21.985816\n",
       "BARRO VERMELHO       78.486998  21.513002\n",
       "...                        ...        ...\n",
       "SÃO JOSÉ             78.351037  21.648963\n",
       "SÃO PEDRO            78.962418  21.037582\n",
       "TABUAZEIRO           81.704981  18.295019\n",
       "UNIVERSITÁRIO        78.947368  21.052632\n",
       "VILA RUBIM           83.431257  16.568743\n",
       "\n",
       "[81 rows x 2 columns]"
      ]
     },
     "execution_count": 22,
     "metadata": {},
     "output_type": "execute_result"
    }
   ],
   "source": [
    "# Create a table showing the percentage of attendance by neighbourhood\n",
    "\n",
    "Neighbourhood_data = Neighbourhood_freq / Neighbourhood_freq.groupby(level=0).sum() * 100\n",
    "Neighbourhood_data.unstack()"
   ]
  },
  {
   "cell_type": "code",
   "execution_count": 23,
   "metadata": {},
   "outputs": [
    {
     "data": {
      "image/png": "[encoded data removed]",
      "text/plain": [
       "<Figure size 1440x360 with 1 Axes>"
      ]
     },
     "metadata": {
      "needs_background": "light"
     },
     "output_type": "display_data"
    }
   ],
   "source": [
    "# percentage of patients missing their appointment in each neighbourhood\n",
    "\n",
    "Neighbourhood_data.unstack().sort_values(by=0).plot(kind=\"bar\",stacked=True, figsize=(20,5));\n",
    "plt.xlabel(\"Neighbourhoods\")\n",
    "plt.ylabel(\"Percentage of Appointment Attendance (%)\")\n",
    "plt.legend([\"Absent\",\"Present\"]);\n",
    "plt.title(\"Percentage of Appointment Attendance by Neighbourhood\");"
   ]
  },
  {
   "cell_type": "markdown",
   "metadata": {},
   "source": [
    "From the plot above, it is diffcult to determine the role neighbourhood plays in appointment attendance. There are only two instances in this dataset where we can make a definite prediction. All the patients from \"Parque Industrial\" missed their appointments, while all the patients from \"Ilhas Oceanicas de Trindade\" attended their appointments. However, these are just two neighbourhoods out of eighty one, so we can't make any definite conclusions."
   ]
  },
  {
   "cell_type": "markdown",
   "metadata": {},
   "source": [
    "# Limitations\n",
    "\n",
    "Some of limitations observed in the information available in the dataset are listed below:\n",
    "- Looking at the dataset, there is not information about when the reminders were sent, relative to the patient's appointment date. If there is a wide gap between when the SMS reminder was sent and when the patient was supposed to go for their appointment, it is likely that the patient might forget about the appointment.  \n",
    "- The dataset has no information explaining the distance between the hospitazl and the different neighbourhoods. Knowing this woud have given us a better oicture of how distance infuences the patient's ability to attend their medical appointments.  \n",
    "- Some columns in the dataset were also not very explanatory. For example, the column named \"Handcap\" contains numbers ranging from 0 - 4, but there is no clear cut explanation of what these actually means. Since we are not really sure what it means, then it is much more difficult to use that column in making analysis."
   ]
  },
  {
   "cell_type": "markdown",
   "metadata": {},
   "source": [
    "<a id='conclusions'></a>\n",
    "## Conclusions\n",
    "\n",
    "\n",
    "At the beginning of this project, four questions were set out to be answered, these are \n",
    "- Is age a major determinant in a patients ability to meet up with appointments?  \n",
    "- Does gender influence the chances of a patient going for their appointment?  \n",
    "- Does getting an sms reminder help improve appointment attendance?  \n",
    "- Does a patient's neighbourhood influence their ability to honour their appointments?  \n",
    "\n",
    "After a careful anylysis of each of these questions, it was observed that non of the columns in our dataset possess sufficient proof in themselves to answer these questions beyond doubt. While the data gives pointers in some cases, it would be necessary for us to carry out further exploration before we can assertain the factor(s) responsible for determining the ability of a patient to attend his or her medicalz appointment."
   ]
  }
 ],
 "metadata": {
  "kernelspec": {
   "display_name": "Python 3 (ipykernel)",
   "language": "python",
   "name": "python3"
  },
  "language_info": {
   "codemirror_mode": {
    "name": "ipython",
    "version": 3
   },
   "file_extension": ".py",
   "mimetype": "text/x-python",
   "name": "python",
   "nbconvert_exporter": "python",
   "pygments_lexer": "ipython3",
   "version": "3.9.7"
  }
 },
 "nbformat": 4,
 "nbformat_minor": 2
}
